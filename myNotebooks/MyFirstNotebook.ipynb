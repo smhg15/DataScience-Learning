{
 "cells": [
  {
   "cell_type": "markdown",
   "id": "2de790b7-44e8-4916-958e-e2048d0b740b",
   "metadata": {},
   "source": [
    "# My First Notebook. Road from data to AI"
   ]
  },
  {
   "cell_type": "markdown",
   "id": "0e0062f2-8b12-4c2a-bd92-6aa1d2fcdaba",
   "metadata": {},
   "source": [
    "## Python Data Science. Tutor: Rafa Gonzalez Gouveia (Udemy + Youtube channel)"
   ]
  },
  {
   "cell_type": "code",
   "execution_count": 85,
   "id": "4a1c337b-27a4-4fd1-b42a-e3a7c893a278",
   "metadata": {},
   "outputs": [],
   "source": [
    "#creating datalist for build dataframes\n",
    "list1= [['nombre1',100,True, 1549],\n",
    "        ['nombre2',200,False, 1129],\n",
    "        ['nombre3',300,True, 1129],\n",
    "        ['nombre4',400,False, 1430],\n",
    "        ['nombre5',500,True, 1379]]\n",
    "        \n",
    "list2= [['nombre6',600,False, 1169],\n",
    "        ['nombre7',700,True, 1909],\n",
    "        ['nombre8',800,False, 1329],\n",
    "        ['nombre9',900,True, 1976],\n",
    "        ['nombre10',110,True, 1990]]\n",
    "list3=[1,2,3,4,5,6,7,8,9,10]"
   ]
  },
  {
   "cell_type": "code",
   "execution_count": 86,
   "id": "60838f88-99ce-4441-8409-05463603e650",
   "metadata": {},
   "outputs": [
    {
     "name": "stdout",
     "output_type": "stream",
     "text": [
      "[['nombre1', 100, True, 1549], ['nombre2', 200, False, 1129], ['nombre3', 300, True, 1129], ['nombre4', 400, False, 1430], ['nombre5', 500, True, 1379]] [['nombre6', 600, False, 1169], ['nombre7', 700, True, 1909], ['nombre8', 800, False, 1329], ['nombre9', 900, True, 1976], ['nombre10', 110, True, 1990]] [1, 2, 3, 4, 5, 6, 7, 8, 9, 10]\n"
     ]
    }
   ],
   "source": [
    "print(list1, list2, list3)"
   ]
  },
  {
   "cell_type": "markdown",
   "id": "30ad0d77-de02-45d3-b332-1e08b978d5c0",
   "metadata": {},
   "source": [
    "## Numpy Arrays"
   ]
  },
  {
   "cell_type": "code",
   "execution_count": 87,
   "id": "c2e09034-0f59-4a1f-adcc-6ba1dedf5cdb",
   "metadata": {},
   "outputs": [
    {
     "data": {
      "text/plain": [
       "array([ 1,  2,  3,  4,  5,  6,  7,  8,  9, 10])"
      ]
     },
     "execution_count": 87,
     "metadata": {},
     "output_type": "execute_result"
    }
   ],
   "source": [
    "import numpy as np\n",
    "#building a Numpy array for access to its methods\n",
    "\n",
    "list3=np.array(list3)\n",
    "list3"
   ]
  },
  {
   "cell_type": "code",
   "execution_count": 88,
   "id": "8ae704c5-4d5a-498c-923f-1fe30d4707e4",
   "metadata": {},
   "outputs": [
    {
     "data": {
      "text/plain": [
       "array([0., 0., 0., 0., 0., 0., 0., 0., 0., 0.])"
      ]
     },
     "execution_count": 88,
     "metadata": {},
     "output_type": "execute_result"
    }
   ],
   "source": [
    "zeros=np.zeros(10)\n",
    "zeros"
   ]
  },
  {
   "cell_type": "code",
   "execution_count": 89,
   "id": "65ab0abb-1a32-4f0f-9dd5-b712b29ba98d",
   "metadata": {},
   "outputs": [
    {
     "data": {
      "text/plain": [
       "array([0, 1, 2, 3, 4, 5, 6, 7, 8, 9])"
      ]
     },
     "execution_count": 89,
     "metadata": {},
     "output_type": "execute_result"
    }
   ],
   "source": [
    "arange=np.arange(10)\n",
    "arange"
   ]
  },
  {
   "cell_type": "code",
   "execution_count": 90,
   "id": "195d5867-5535-4b33-9563-550f71129ad8",
   "metadata": {},
   "outputs": [
    {
     "data": {
      "text/plain": [
       "array([ 0,  3,  6,  9, 12, 15, 18, 21, 24, 27])"
      ]
     },
     "execution_count": 90,
     "metadata": {},
     "output_type": "execute_result"
    }
   ],
   "source": [
    "arange2=np.arange(0,30,3)\n",
    "arange2"
   ]
  },
  {
   "cell_type": "code",
   "execution_count": 91,
   "id": "e37ffbe8-26e9-4216-8949-aec8bcc87383",
   "metadata": {},
   "outputs": [
    {
     "data": {
      "text/plain": [
       "array([[ 0,  3,  6,  9, 12],\n",
       "       [15, 18, 21, 24, 27]])"
      ]
     },
     "execution_count": 91,
     "metadata": {},
     "output_type": "execute_result"
    }
   ],
   "source": [
    "arange2=arange2.reshape(2,5)\n",
    "arange2"
   ]
  },
  {
   "cell_type": "code",
   "execution_count": 92,
   "id": "718645cd-133b-4499-856c-30b894ce0496",
   "metadata": {},
   "outputs": [
    {
     "name": "stdout",
     "output_type": "stream",
     "text": [
      "24\n",
      "[ 0  3  6  9 12]\n",
      "[ 3 18]\n"
     ]
    }
   ],
   "source": [
    "##select elements from numpy arrays\n",
    "print(arange2[1,3])\n",
    "print(arange2[0,:])\n",
    "print(arange2[:,1])"
   ]
  },
  {
   "cell_type": "code",
   "execution_count": 93,
   "id": "87af95a1-ef84-4c81-af1c-9de6f1bfece3",
   "metadata": {},
   "outputs": [
    {
     "name": "stdout",
     "output_type": "stream",
     "text": [
      "[[ True  True  True  True False]\n",
      " [False False False False False]]\n"
     ]
    }
   ],
   "source": [
    "print(arange2<10)"
   ]
  },
  {
   "cell_type": "code",
   "execution_count": 94,
   "id": "75dfd600-be73-4d20-b43d-fbcfca3f34bb",
   "metadata": {},
   "outputs": [
    {
     "name": "stdout",
     "output_type": "stream",
     "text": [
      "[0 3 6 9]\n"
     ]
    }
   ],
   "source": [
    "print(arange2[arange2<10])"
   ]
  },
  {
   "cell_type": "markdown",
   "id": "839f64e8-48b7-4899-8588-ac3d7459b1e4",
   "metadata": {
    "tags": []
   },
   "source": [
    "## DataFrame building (pandas)"
   ]
  },
  {
   "cell_type": "code",
   "execution_count": 95,
   "id": "bffdab20-af0b-4b2d-aae9-5deb56399521",
   "metadata": {},
   "outputs": [
    {
     "data": {
      "text/html": [
       "<div>\n",
       "<style scoped>\n",
       "    .dataframe tbody tr th:only-of-type {\n",
       "        vertical-align: middle;\n",
       "    }\n",
       "\n",
       "    .dataframe tbody tr th {\n",
       "        vertical-align: top;\n",
       "    }\n",
       "\n",
       "    .dataframe thead th {\n",
       "        text-align: right;\n",
       "    }\n",
       "</style>\n",
       "<table border=\"1\" class=\"dataframe\">\n",
       "  <thead>\n",
       "    <tr style=\"text-align: right;\">\n",
       "      <th></th>\n",
       "      <th>Name</th>\n",
       "      <th>code</th>\n",
       "      <th>Still_alive</th>\n",
       "      <th>Birthdate</th>\n",
       "    </tr>\n",
       "  </thead>\n",
       "  <tbody>\n",
       "    <tr>\n",
       "      <th>0</th>\n",
       "      <td>nombre1</td>\n",
       "      <td>100</td>\n",
       "      <td>True</td>\n",
       "      <td>1549</td>\n",
       "    </tr>\n",
       "    <tr>\n",
       "      <th>1</th>\n",
       "      <td>nombre2</td>\n",
       "      <td>200</td>\n",
       "      <td>False</td>\n",
       "      <td>1129</td>\n",
       "    </tr>\n",
       "    <tr>\n",
       "      <th>2</th>\n",
       "      <td>nombre3</td>\n",
       "      <td>300</td>\n",
       "      <td>True</td>\n",
       "      <td>1129</td>\n",
       "    </tr>\n",
       "    <tr>\n",
       "      <th>3</th>\n",
       "      <td>nombre4</td>\n",
       "      <td>400</td>\n",
       "      <td>False</td>\n",
       "      <td>1430</td>\n",
       "    </tr>\n",
       "    <tr>\n",
       "      <th>4</th>\n",
       "      <td>nombre5</td>\n",
       "      <td>500</td>\n",
       "      <td>True</td>\n",
       "      <td>1379</td>\n",
       "    </tr>\n",
       "  </tbody>\n",
       "</table>\n",
       "</div>"
      ],
      "text/plain": [
       "      Name  code  Still_alive  Birthdate\n",
       "0  nombre1   100         True       1549\n",
       "1  nombre2   200        False       1129\n",
       "2  nombre3   300         True       1129\n",
       "3  nombre4   400        False       1430\n",
       "4  nombre5   500         True       1379"
      ]
     },
     "execution_count": 95,
     "metadata": {},
     "output_type": "execute_result"
    }
   ],
   "source": [
    "import pandas as pd\n",
    "\n",
    "dataframe= pd.DataFrame(list1, columns=['Name', 'code','Still_alive', 'Birthdate'])\n",
    "dataframe"
   ]
  },
  {
   "cell_type": "code",
   "execution_count": 96,
   "id": "6ef7d31e-db7f-49f9-9c8c-2d8477846abe",
   "metadata": {},
   "outputs": [
    {
     "data": {
      "text/html": [
       "<div>\n",
       "<style scoped>\n",
       "    .dataframe tbody tr th:only-of-type {\n",
       "        vertical-align: middle;\n",
       "    }\n",
       "\n",
       "    .dataframe tbody tr th {\n",
       "        vertical-align: top;\n",
       "    }\n",
       "\n",
       "    .dataframe thead th {\n",
       "        text-align: right;\n",
       "    }\n",
       "</style>\n",
       "<table border=\"1\" class=\"dataframe\">\n",
       "  <thead>\n",
       "    <tr style=\"text-align: right;\">\n",
       "      <th></th>\n",
       "      <th>Name</th>\n",
       "      <th>code</th>\n",
       "      <th>Still_alive</th>\n",
       "      <th>Birthdate</th>\n",
       "    </tr>\n",
       "  </thead>\n",
       "  <tbody>\n",
       "  </tbody>\n",
       "</table>\n",
       "</div>"
      ],
      "text/plain": [
       "Empty DataFrame\n",
       "Columns: [Name, code, Still_alive, Birthdate]\n",
       "Index: []"
      ]
     },
     "execution_count": 96,
     "metadata": {},
     "output_type": "execute_result"
    }
   ],
   "source": [
    "#empty dataframe\n",
    "dataframe1=pd.DataFrame(columns=['Name', 'code','Still_alive', 'Birthdate'])\n",
    "dataframe1"
   ]
  },
  {
   "cell_type": "code",
   "execution_count": 97,
   "id": "d036829a-9d7d-4d75-a7ce-9e5a386e55c2",
   "metadata": {},
   "outputs": [
    {
     "name": "stderr",
     "output_type": "stream",
     "text": [
      "C:\\Users\\Santi\\AppData\\Local\\Temp\\ipykernel_3168\\3552673175.py:1: FutureWarning: The frame.append method is deprecated and will be removed from pandas in a future version. Use pandas.concat instead.\n",
      "  dataframe1.append({'Name':'Pablo', 'code':300,'Still_alive':True, 'Birthdate':1876}, ignore_index=True)\n"
     ]
    },
    {
     "data": {
      "text/html": [
       "<div>\n",
       "<style scoped>\n",
       "    .dataframe tbody tr th:only-of-type {\n",
       "        vertical-align: middle;\n",
       "    }\n",
       "\n",
       "    .dataframe tbody tr th {\n",
       "        vertical-align: top;\n",
       "    }\n",
       "\n",
       "    .dataframe thead th {\n",
       "        text-align: right;\n",
       "    }\n",
       "</style>\n",
       "<table border=\"1\" class=\"dataframe\">\n",
       "  <thead>\n",
       "    <tr style=\"text-align: right;\">\n",
       "      <th></th>\n",
       "      <th>Name</th>\n",
       "      <th>code</th>\n",
       "      <th>Still_alive</th>\n",
       "      <th>Birthdate</th>\n",
       "    </tr>\n",
       "  </thead>\n",
       "  <tbody>\n",
       "    <tr>\n",
       "      <th>0</th>\n",
       "      <td>Pablo</td>\n",
       "      <td>300</td>\n",
       "      <td>True</td>\n",
       "      <td>1876</td>\n",
       "    </tr>\n",
       "  </tbody>\n",
       "</table>\n",
       "</div>"
      ],
      "text/plain": [
       "    Name code Still_alive Birthdate\n",
       "0  Pablo  300        True      1876"
      ]
     },
     "execution_count": 97,
     "metadata": {},
     "output_type": "execute_result"
    }
   ],
   "source": [
    "dataframe1.append({'Name':'Pablo', 'code':300,'Still_alive':True, 'Birthdate':1876}, ignore_index=True)"
   ]
  },
  {
   "cell_type": "markdown",
   "id": "5da9ca0f-b546-45f0-b66a-320a9bfdf80d",
   "metadata": {},
   "source": [
    "## DataFrame. searching, filtering and sorting data"
   ]
  },
  {
   "cell_type": "code",
   "execution_count": 98,
   "id": "db6dc0bd-19e7-42b4-9199-2f6dcffebc08",
   "metadata": {},
   "outputs": [
    {
     "name": "stdout",
     "output_type": "stream",
     "text": [
      "      Name  code  Still_alive  Birthdate\n",
      "0  nombre1   100         True       1549\n",
      "1  nombre2   200        False       1129\n",
      "2  nombre3   300         True       1129\n",
      "3  nombre4   400        False       1430\n",
      "4  nombre5   500         True       1379 \n",
      "\n",
      "\u001b[1m loc method: \u001b[0m nombre1 \n",
      "\n",
      "\u001b[1m iloc method: \u001b[0m 1379 \n",
      "\n",
      "\u001b[1m column: \n",
      "\u001b[0m 0    nombre1\n",
      "1    nombre2\n",
      "2    nombre3\n",
      "3    nombre4\n",
      "4    nombre5\n",
      "Name: Name, dtype: object \n",
      "\n",
      "\u001b[1m row: \u001b[0m Name           nombre5\n",
      "code               500\n",
      "Still_alive       True\n",
      "Birthdate         1379\n",
      "Name: 4, dtype: object \n",
      "\n",
      "\u001b[1m boolean method: \n",
      "\u001b[0m       Name  code  Still_alive  Birthdate\n",
      "0  nombre1   100         True       1549\n",
      "3  nombre4   400        False       1430 \n",
      "\n",
      "\u001b[1m sort method: \n",
      "\u001b[0m       Name  code  Still_alive  Birthdate\n",
      "1  nombre2   200        False       1129\n",
      "2  nombre3   300         True       1129\n",
      "4  nombre5   500         True       1379\n",
      "3  nombre4   400        False       1430\n",
      "0  nombre1   100         True       1549 \n",
      "\n",
      "\u001b[1m sort method: \n",
      "\u001b[0m       Name  code  Still_alive  Birthdate\n",
      "2  nombre3   300         True       1129\n",
      "1  nombre2   200        False       1129\n",
      "4  nombre5   500         True       1379\n",
      "3  nombre4   400        False       1430\n",
      "0  nombre1   100         True       1549 \n",
      "\n"
     ]
    }
   ],
   "source": [
    "print(dataframe,'\\n')\n",
    "print('\\033[1m loc method: \\033[0m', dataframe.loc[0,'Name'],'\\n')\n",
    "print('\\033[1m iloc method: \\033[0m', dataframe.iloc[4,3],'\\n')\n",
    "print('\\033[1m column: \\n\\033[0m', dataframe['Name'],'\\n')\n",
    "print('\\033[1m row: \\033[0m', dataframe.iloc[4],'\\n')\n",
    "print('\\033[1m boolean method: \\n\\033[0m', dataframe[dataframe['Birthdate']>1400],'\\n')\n",
    "print('\\033[1m sort method: \\n\\033[0m', dataframe.sort_values('Birthdate', ascending= True),'\\n')\n",
    "#just checking if i can fill booleans parameters with variable as arguments (it's work!)\n",
    "T=True\n",
    "F=False\n",
    "print('\\033[1m sort method: \\n\\033[0m', dataframe.sort_values(['Birthdate', 'Still_alive'], ascending= [T, F]),'\\n')#remember False=0 and True=1"
   ]
  },
  {
   "cell_type": "markdown",
   "id": "a674c1dc-5138-4164-a470-4449d7fd65e7",
   "metadata": {},
   "source": [
    "## Matplotlib. Just testing the differents graphics. some of them don't make sense (ex: bar)"
   ]
  },
  {
   "cell_type": "code",
   "execution_count": 110,
   "id": "586024ac-755a-4136-9f34-d1d7bb3cdff1",
   "metadata": {},
   "outputs": [
    {
     "name": "stdout",
     "output_type": "stream",
     "text": [
      "      Name  code  Still_alive  Birthdate\n",
      "1  nombre2   200        False       1129\n",
      "2  nombre3   300         True       1129\n",
      "4  nombre5   500         True       1379\n",
      "3  nombre4   400        False       1430\n",
      "0  nombre1   100         True       1549 \n",
      "\n"
     ]
    },
    {
     "data": {
      "image/png": "[encoded data removed]",
      "text/plain": [
       "<Figure size 640x480 with 1 Axes>"
      ]
     },
     "metadata": {},
     "output_type": "display_data"
    },
    {
     "data": {
      "image/png": "[encoded data removed]",
      "text/plain": [
       "<Figure size 640x480 with 1 Axes>"
      ]
     },
     "metadata": {},
     "output_type": "display_data"
    },
    {
     "data": {
      "image/png": "[encoded data removed]",
      "text/plain": [
       "<Figure size 640x480 with 1 Axes>"
      ]
     },
     "metadata": {},
     "output_type": "display_data"
    },
    {
     "data": {
      "image/png": "[encoded data removed]",
      "text/plain": [
       "<Figure size 640x480 with 1 Axes>"
      ]
     },
     "metadata": {},
     "output_type": "display_data"
    },
    {
     "data": {
      "image/png": "[encoded data removed]",
      "text/plain": [
       "<Figure size 640x480 with 1 Axes>"
      ]
     },
     "metadata": {},
     "output_type": "display_data"
    }
   ],
   "source": [
    "#ATTENTION!!!: The cell reorder the code (to what extent I don't know),\n",
    "# so even if I write the \"import\" at the end line it is run first\n",
    "# and when I use the sort_values() method it is applied to the whole cell before running the graphics.\n",
    "\n",
    "print(dataframe,'\\n')\n",
    "#graphics superposition\n",
    "plt.plot(dataframe['Birthdate'], dataframe['Name'])\n",
    "plt.scatter(dataframe['Birthdate'], dataframe['Name'])\n",
    "plt.show()\n",
    "\n",
    "#showing normal/individuals graphics as a functions and as a method\n",
    "plt.plot(dataframe['Birthdate'], dataframe['Name'])\n",
    "plt.show()\n",
    "dataframe.plot(kind='scatter', x='Birthdate', y='Name')\n",
    "plt.show()\n",
    "\n",
    "dataframe= dataframe.sort_values('Birthdate', ascending=T)\n",
    "\n",
    "dataframe.plot(kind='bar', x='Name', y='Birthdate', color=['r','g','b','c','m','y'])\n",
    "plt.show()\n",
    "\n",
    "plt.pie(dataframe['Birthdate'], labels=dataframe['Name'], colors=['r','g','b','c','m','y'])\n",
    "plt.show()\n",
    "\n",
    "import matplotlib.pyplot as plt"
   ]
  },
  {
   "cell_type": "markdown",
   "id": "14fc039d-c53e-4165-9ea3-22d717609d6c",
   "metadata": {},
   "source": [
    "## Read Excel files"
   ]
  },
  {
   "cell_type": "code",
   "execution_count": 130,
   "id": "7df2f75c-1049-4afa-9612-9f6649eccfb8",
   "metadata": {},
   "outputs": [
    {
     "data": {
      "text/html": [
       "<div>\n",
       "<style scoped>\n",
       "    .dataframe tbody tr th:only-of-type {\n",
       "        vertical-align: middle;\n",
       "    }\n",
       "\n",
       "    .dataframe tbody tr th {\n",
       "        vertical-align: top;\n",
       "    }\n",
       "\n",
       "    .dataframe thead th {\n",
       "        text-align: right;\n",
       "    }\n",
       "</style>\n",
       "<table border=\"1\" class=\"dataframe\">\n",
       "  <thead>\n",
       "    <tr style=\"text-align: right;\">\n",
       "      <th></th>\n",
       "      <th>Cuota</th>\n",
       "      <th>Fecha</th>\n",
       "      <th>Amortización</th>\n",
       "      <th>Intereses</th>\n",
       "      <th>IVA</th>\n",
       "      <th>Sellados</th>\n",
       "      <th>Total</th>\n",
       "    </tr>\n",
       "  </thead>\n",
       "  <tbody>\n",
       "    <tr>\n",
       "      <th>0</th>\n",
       "      <td>1</td>\n",
       "      <td>1990-11-25</td>\n",
       "      <td>$69.064,12</td>\n",
       "      <td>$84.816,99</td>\n",
       "      <td>$17.811,57</td>\n",
       "      <td>$1.211,67</td>\n",
       "      <td>$172.904,35</td>\n",
       "    </tr>\n",
       "    <tr>\n",
       "      <th>1</th>\n",
       "      <td>2</td>\n",
       "      <td>1990-12-25</td>\n",
       "      <td>$73.458,27</td>\n",
       "      <td>$81.160,51</td>\n",
       "      <td>$17.043,71</td>\n",
       "      <td>$1.143,55</td>\n",
       "      <td>$172.806,04</td>\n",
       "    </tr>\n",
       "    <tr>\n",
       "      <th>2</th>\n",
       "      <td>3</td>\n",
       "      <td>1990-01-25</td>\n",
       "      <td>$78.600,35</td>\n",
       "      <td>$76.018,43</td>\n",
       "      <td>$15.963,87</td>\n",
       "      <td>$1.106,80</td>\n",
       "      <td>$171.689,45</td>\n",
       "    </tr>\n",
       "    <tr>\n",
       "      <th>3</th>\n",
       "      <td>4</td>\n",
       "      <td>1990-02-25</td>\n",
       "      <td>$84.102,37</td>\n",
       "      <td>$70.516,41</td>\n",
       "      <td>$14.808,45</td>\n",
       "      <td>$1.026,70</td>\n",
       "      <td>$171.689,45</td>\n",
       "    </tr>\n",
       "    <tr>\n",
       "      <th>4</th>\n",
       "      <td>5</td>\n",
       "      <td>1990-03-25</td>\n",
       "      <td>$89.989,54</td>\n",
       "      <td>$64.629,24</td>\n",
       "      <td>$13.572,14</td>\n",
       "      <td>$849,92</td>\n",
       "      <td>$169.040,84</td>\n",
       "    </tr>\n",
       "    <tr>\n",
       "      <th>5</th>\n",
       "      <td>6</td>\n",
       "      <td>1990-04-25</td>\n",
       "      <td>$96.288,81</td>\n",
       "      <td>$58.329,97</td>\n",
       "      <td>$12.249,29</td>\n",
       "      <td>$849,27</td>\n",
       "      <td>$167.717,34</td>\n",
       "    </tr>\n",
       "    <tr>\n",
       "      <th>6</th>\n",
       "      <td>7</td>\n",
       "      <td>1990-05-25</td>\n",
       "      <td>$103.029,02</td>\n",
       "      <td>$51.589,76</td>\n",
       "      <td>$10.833,85</td>\n",
       "      <td>$726,90</td>\n",
       "      <td>$166.179,53</td>\n",
       "    </tr>\n",
       "    <tr>\n",
       "      <th>7</th>\n",
       "      <td>8</td>\n",
       "      <td>1990-06-25</td>\n",
       "      <td>$110.241,05</td>\n",
       "      <td>$44.377,73</td>\n",
       "      <td>$9.319,32</td>\n",
       "      <td>$646,13</td>\n",
       "      <td>$164.584,23</td>\n",
       "    </tr>\n",
       "    <tr>\n",
       "      <th>8</th>\n",
       "      <td>9</td>\n",
       "      <td>1990-07-25</td>\n",
       "      <td>$117.957,93</td>\n",
       "      <td>$36.660,85</td>\n",
       "      <td>$7.698,78</td>\n",
       "      <td>$516,55</td>\n",
       "      <td>$162.834,11</td>\n",
       "    </tr>\n",
       "    <tr>\n",
       "      <th>9</th>\n",
       "      <td>10</td>\n",
       "      <td>1990-08-25</td>\n",
       "      <td>$126.214,98</td>\n",
       "      <td>$28.403,80</td>\n",
       "      <td>$5.964,80</td>\n",
       "      <td>$413,55</td>\n",
       "      <td>$160.997,13</td>\n",
       "    </tr>\n",
       "    <tr>\n",
       "      <th>10</th>\n",
       "      <td>11</td>\n",
       "      <td>1990-09-25</td>\n",
       "      <td>$135.050,03</td>\n",
       "      <td>$19.568,75</td>\n",
       "      <td>$4.109,44</td>\n",
       "      <td>$284,91</td>\n",
       "      <td>$159.013,13</td>\n",
       "    </tr>\n",
       "    <tr>\n",
       "      <th>11</th>\n",
       "      <td>12</td>\n",
       "      <td>1990-10-25</td>\n",
       "      <td>$144.503,53</td>\n",
       "      <td>$10.115,25</td>\n",
       "      <td>$2.124,20</td>\n",
       "      <td>$142,52</td>\n",
       "      <td>$156.885,50</td>\n",
       "    </tr>\n",
       "  </tbody>\n",
       "</table>\n",
       "</div>"
      ],
      "text/plain": [
       "    Cuota      Fecha Amortización   Intereses         IVA   Sellados  \\\n",
       "0       1 1990-11-25   $69.064,12  $84.816,99  $17.811,57  $1.211,67   \n",
       "1       2 1990-12-25   $73.458,27  $81.160,51  $17.043,71  $1.143,55   \n",
       "2       3 1990-01-25   $78.600,35  $76.018,43  $15.963,87  $1.106,80   \n",
       "3       4 1990-02-25   $84.102,37  $70.516,41  $14.808,45  $1.026,70   \n",
       "4       5 1990-03-25   $89.989,54  $64.629,24  $13.572,14    $849,92   \n",
       "5       6 1990-04-25   $96.288,81  $58.329,97  $12.249,29    $849,27   \n",
       "6       7 1990-05-25  $103.029,02  $51.589,76  $10.833,85    $726,90   \n",
       "7       8 1990-06-25  $110.241,05  $44.377,73   $9.319,32    $646,13   \n",
       "8       9 1990-07-25  $117.957,93  $36.660,85   $7.698,78    $516,55   \n",
       "9      10 1990-08-25  $126.214,98  $28.403,80   $5.964,80    $413,55   \n",
       "10     11 1990-09-25  $135.050,03  $19.568,75   $4.109,44    $284,91   \n",
       "11     12 1990-10-25  $144.503,53  $10.115,25   $2.124,20    $142,52   \n",
       "\n",
       "          Total  \n",
       "0   $172.904,35  \n",
       "1   $172.806,04  \n",
       "2   $171.689,45  \n",
       "3   $171.689,45  \n",
       "4   $169.040,84  \n",
       "5   $167.717,34  \n",
       "6   $166.179,53  \n",
       "7   $164.584,23  \n",
       "8   $162.834,11  \n",
       "9   $160.997,13  \n",
       "10  $159.013,13  \n",
       "11  $156.885,50  "
      ]
     },
     "execution_count": 130,
     "metadata": {},
     "output_type": "execute_result"
    }
   ],
   "source": [
    "path= 'dataset.xlsx'\n",
    "dataframe2= pd.read_excel(path)\n",
    "#if the table it's not on the first sheet used \"sheet_name\", if haven't headers use \"header\" and \"names\".\n",
    "#ex:\n",
    "#pd.read_excel(path, sheet_name='Hoja2', header=None, names=[\"columna1\",\"columna2\",\"columna3\"] )\n",
    "\n",
    "#export to excel\n",
    "dataframe2.to_excel('dataframe2.xlsx')#default attribute:  index=True\n",
    "dataframe2\n",
    "#if the table it's not on the first sheet used \"sheet_name\", if haven't headers use \"header\" and \"names\".\n",
    "#ex:\n",
    "#pd.read_excel(path, sheet_name='Hoja2', header=None, names=[\"columna1\",\"columna2\",\"columna3\"] )"
   ]
  },
  {
   "cell_type": "markdown",
   "id": "7992bb3e-61e2-4d60-8c07-8382f285ec20",
   "metadata": {},
   "source": [
    "## Read CSV files"
   ]
  },
  {
   "cell_type": "code",
   "execution_count": 128,
   "id": "062a7e7e-760b-4947-a830-046334f055dc",
   "metadata": {},
   "outputs": [
    {
     "data": {
      "text/html": [
       "<div>\n",
       "<style scoped>\n",
       "    .dataframe tbody tr th:only-of-type {\n",
       "        vertical-align: middle;\n",
       "    }\n",
       "\n",
       "    .dataframe tbody tr th {\n",
       "        vertical-align: top;\n",
       "    }\n",
       "\n",
       "    .dataframe thead th {\n",
       "        text-align: right;\n",
       "    }\n",
       "</style>\n",
       "<table border=\"1\" class=\"dataframe\">\n",
       "  <thead>\n",
       "    <tr style=\"text-align: right;\">\n",
       "      <th></th>\n",
       "      <th>Year</th>\n",
       "      <th>Industry_aggregation_NZSIOC</th>\n",
       "      <th>Industry_code_NZSIOC</th>\n",
       "      <th>Industry_name_NZSIOC</th>\n",
       "      <th>Units</th>\n",
       "      <th>Variable_code</th>\n",
       "      <th>Variable_name</th>\n",
       "      <th>Variable_category</th>\n",
       "      <th>Value</th>\n",
       "      <th>Industry_code_ANZSIC06</th>\n",
       "    </tr>\n",
       "  </thead>\n",
       "  <tbody>\n",
       "    <tr>\n",
       "      <th>0</th>\n",
       "      <td>2021</td>\n",
       "      <td>Level 1</td>\n",
       "      <td>99999</td>\n",
       "      <td>All industries</td>\n",
       "      <td>Dollars (millions)</td>\n",
       "      <td>H01</td>\n",
       "      <td>Total income</td>\n",
       "      <td>Financial performance</td>\n",
       "      <td>757,504</td>\n",
       "      <td>ANZSIC06 divisions A-S (excluding classes K633...</td>\n",
       "    </tr>\n",
       "    <tr>\n",
       "      <th>1</th>\n",
       "      <td>2021</td>\n",
       "      <td>Level 1</td>\n",
       "      <td>99999</td>\n",
       "      <td>All industries</td>\n",
       "      <td>Dollars (millions)</td>\n",
       "      <td>H04</td>\n",
       "      <td>Sales, government funding, grants and subsidies</td>\n",
       "      <td>Financial performance</td>\n",
       "      <td>674,890</td>\n",
       "      <td>ANZSIC06 divisions A-S (excluding classes K633...</td>\n",
       "    </tr>\n",
       "    <tr>\n",
       "      <th>2</th>\n",
       "      <td>2021</td>\n",
       "      <td>Level 1</td>\n",
       "      <td>99999</td>\n",
       "      <td>All industries</td>\n",
       "      <td>Dollars (millions)</td>\n",
       "      <td>H05</td>\n",
       "      <td>Interest, dividends and donations</td>\n",
       "      <td>Financial performance</td>\n",
       "      <td>49,593</td>\n",
       "      <td>ANZSIC06 divisions A-S (excluding classes K633...</td>\n",
       "    </tr>\n",
       "    <tr>\n",
       "      <th>3</th>\n",
       "      <td>2021</td>\n",
       "      <td>Level 1</td>\n",
       "      <td>99999</td>\n",
       "      <td>All industries</td>\n",
       "      <td>Dollars (millions)</td>\n",
       "      <td>H07</td>\n",
       "      <td>Non-operating income</td>\n",
       "      <td>Financial performance</td>\n",
       "      <td>33,020</td>\n",
       "      <td>ANZSIC06 divisions A-S (excluding classes K633...</td>\n",
       "    </tr>\n",
       "    <tr>\n",
       "      <th>4</th>\n",
       "      <td>2021</td>\n",
       "      <td>Level 1</td>\n",
       "      <td>99999</td>\n",
       "      <td>All industries</td>\n",
       "      <td>Dollars (millions)</td>\n",
       "      <td>H08</td>\n",
       "      <td>Total expenditure</td>\n",
       "      <td>Financial performance</td>\n",
       "      <td>654,404</td>\n",
       "      <td>ANZSIC06 divisions A-S (excluding classes K633...</td>\n",
       "    </tr>\n",
       "    <tr>\n",
       "      <th>...</th>\n",
       "      <td>...</td>\n",
       "      <td>...</td>\n",
       "      <td>...</td>\n",
       "      <td>...</td>\n",
       "      <td>...</td>\n",
       "      <td>...</td>\n",
       "      <td>...</td>\n",
       "      <td>...</td>\n",
       "      <td>...</td>\n",
       "      <td>...</td>\n",
       "    </tr>\n",
       "    <tr>\n",
       "      <th>41710</th>\n",
       "      <td>2013</td>\n",
       "      <td>Level 3</td>\n",
       "      <td>ZZ11</td>\n",
       "      <td>Food product manufacturing</td>\n",
       "      <td>Percentage</td>\n",
       "      <td>H37</td>\n",
       "      <td>Quick ratio</td>\n",
       "      <td>Financial ratios</td>\n",
       "      <td>52</td>\n",
       "      <td>ANZSIC06 groups C111, C112, C113, C114, C115, ...</td>\n",
       "    </tr>\n",
       "    <tr>\n",
       "      <th>41711</th>\n",
       "      <td>2013</td>\n",
       "      <td>Level 3</td>\n",
       "      <td>ZZ11</td>\n",
       "      <td>Food product manufacturing</td>\n",
       "      <td>Percentage</td>\n",
       "      <td>H38</td>\n",
       "      <td>Margin on sales of goods for resale</td>\n",
       "      <td>Financial ratios</td>\n",
       "      <td>40</td>\n",
       "      <td>ANZSIC06 groups C111, C112, C113, C114, C115, ...</td>\n",
       "    </tr>\n",
       "    <tr>\n",
       "      <th>41712</th>\n",
       "      <td>2013</td>\n",
       "      <td>Level 3</td>\n",
       "      <td>ZZ11</td>\n",
       "      <td>Food product manufacturing</td>\n",
       "      <td>Percentage</td>\n",
       "      <td>H39</td>\n",
       "      <td>Return on equity</td>\n",
       "      <td>Financial ratios</td>\n",
       "      <td>12</td>\n",
       "      <td>ANZSIC06 groups C111, C112, C113, C114, C115, ...</td>\n",
       "    </tr>\n",
       "    <tr>\n",
       "      <th>41713</th>\n",
       "      <td>2013</td>\n",
       "      <td>Level 3</td>\n",
       "      <td>ZZ11</td>\n",
       "      <td>Food product manufacturing</td>\n",
       "      <td>Percentage</td>\n",
       "      <td>H40</td>\n",
       "      <td>Return on total assets</td>\n",
       "      <td>Financial ratios</td>\n",
       "      <td>5</td>\n",
       "      <td>ANZSIC06 groups C111, C112, C113, C114, C115, ...</td>\n",
       "    </tr>\n",
       "    <tr>\n",
       "      <th>41714</th>\n",
       "      <td>2013</td>\n",
       "      <td>Level 3</td>\n",
       "      <td>ZZ11</td>\n",
       "      <td>Food product manufacturing</td>\n",
       "      <td>Percentage</td>\n",
       "      <td>H41</td>\n",
       "      <td>Liabilities structure</td>\n",
       "      <td>Financial ratios</td>\n",
       "      <td>46</td>\n",
       "      <td>ANZSIC06 groups C111, C112, C113, C114, C115, ...</td>\n",
       "    </tr>\n",
       "  </tbody>\n",
       "</table>\n",
       "<p>41715 rows × 10 columns</p>\n",
       "</div>"
      ],
      "text/plain": [
       "       Year Industry_aggregation_NZSIOC Industry_code_NZSIOC  \\\n",
       "0      2021                     Level 1                99999   \n",
       "1      2021                     Level 1                99999   \n",
       "2      2021                     Level 1                99999   \n",
       "3      2021                     Level 1                99999   \n",
       "4      2021                     Level 1                99999   \n",
       "...     ...                         ...                  ...   \n",
       "41710  2013                     Level 3                 ZZ11   \n",
       "41711  2013                     Level 3                 ZZ11   \n",
       "41712  2013                     Level 3                 ZZ11   \n",
       "41713  2013                     Level 3                 ZZ11   \n",
       "41714  2013                     Level 3                 ZZ11   \n",
       "\n",
       "             Industry_name_NZSIOC               Units Variable_code  \\\n",
       "0                  All industries  Dollars (millions)           H01   \n",
       "1                  All industries  Dollars (millions)           H04   \n",
       "2                  All industries  Dollars (millions)           H05   \n",
       "3                  All industries  Dollars (millions)           H07   \n",
       "4                  All industries  Dollars (millions)           H08   \n",
       "...                           ...                 ...           ...   \n",
       "41710  Food product manufacturing          Percentage           H37   \n",
       "41711  Food product manufacturing          Percentage           H38   \n",
       "41712  Food product manufacturing          Percentage           H39   \n",
       "41713  Food product manufacturing          Percentage           H40   \n",
       "41714  Food product manufacturing          Percentage           H41   \n",
       "\n",
       "                                         Variable_name      Variable_category  \\\n",
       "0                                         Total income  Financial performance   \n",
       "1      Sales, government funding, grants and subsidies  Financial performance   \n",
       "2                    Interest, dividends and donations  Financial performance   \n",
       "3                                 Non-operating income  Financial performance   \n",
       "4                                    Total expenditure  Financial performance   \n",
       "...                                                ...                    ...   \n",
       "41710                                      Quick ratio       Financial ratios   \n",
       "41711              Margin on sales of goods for resale       Financial ratios   \n",
       "41712                                 Return on equity       Financial ratios   \n",
       "41713                           Return on total assets       Financial ratios   \n",
       "41714                            Liabilities structure       Financial ratios   \n",
       "\n",
       "         Value                             Industry_code_ANZSIC06  \n",
       "0      757,504  ANZSIC06 divisions A-S (excluding classes K633...  \n",
       "1      674,890  ANZSIC06 divisions A-S (excluding classes K633...  \n",
       "2       49,593  ANZSIC06 divisions A-S (excluding classes K633...  \n",
       "3       33,020  ANZSIC06 divisions A-S (excluding classes K633...  \n",
       "4      654,404  ANZSIC06 divisions A-S (excluding classes K633...  \n",
       "...        ...                                                ...  \n",
       "41710       52  ANZSIC06 groups C111, C112, C113, C114, C115, ...  \n",
       "41711       40  ANZSIC06 groups C111, C112, C113, C114, C115, ...  \n",
       "41712       12  ANZSIC06 groups C111, C112, C113, C114, C115, ...  \n",
       "41713        5  ANZSIC06 groups C111, C112, C113, C114, C115, ...  \n",
       "41714       46  ANZSIC06 groups C111, C112, C113, C114, C115, ...  \n",
       "\n",
       "[41715 rows x 10 columns]"
      ]
     },
     "execution_count": 128,
     "metadata": {},
     "output_type": "execute_result"
    }
   ],
   "source": [
    "path1= 'annual-enterprise-survey-2021-financial-year-provisional-csv.csv'\n",
    "dataframe3= pd.read_csv(path1)\n",
    "#export to csv file\n",
    "dataframe3.to_csv('dataframe3.csv', index=False, sep=';', encoding='utf-8')\n",
    "#the \"encoding\" attribute with value \"utf-8\" guarantees that all the characters are read correctly \n",
    "# when we import the file from another operating system\n",
    "dataframe3\n",
    "#for default the \"sep\" attribute is \",\". You can change it."
   ]
  },
  {
   "cell_type": "markdown",
   "id": "84df2b2f-6180-4900-85bb-90efd49e0bf9",
   "metadata": {},
   "source": [
    "## Estructura para un buen análisis de datos\n",
    "+ Importación de paquetes y carga de datos\n",
    "    + data.head()\n",
    "+ Exploración de datos (ED)\n",
    "    + data.columns\n",
    "    + data.shape\n",
    "    + data.info()\n",
    "    + data.describe()\n",
    "    + data.describe(include=['0'])\n",
    "+ ED: Estudio de variable target\n",
    "    + data_target= data.groupby(['var','var2']).count()['var3']\n",
    "        (data_target.unstack(level=0).plot.bar())\n",
    "        plt.show()\n",
    "+ Procesamiento de datos (PD)\n",
    "    + selección de variables (VD, VI)\n",
    "    + data[[VI, VD, VD]].head(3)\n",
    "    + data[[VI, VD, VD]].info()\n",
    "    + trabajar los datos/ corregir los datos\n",
    "        + (data[data[VD or VI with nulls].isna()])\n",
    "        + definir un criterio para completar los campos nulls\n",
    "            + data[VD or VI] = data[VD or VI].fillna(valor)\n",
    "            + ex: train['sex']= train['sex'].map({'female':1, 'male':0}).astype(int)\n",
    "+ PD: Creación de nuevas variables (features)\n",
    "    + (data[feature]=np.where(boolean)&(boolean),1,0)\n",
    "    + selección de variables para entrenar el modelo\n",
    "+ Modelos\n",
    "    + www.youtube.com/watch?v=VkU-9Us6Rpw&list=PLbDLkhJ5sFvBJC6XnRSHMltAdKXI7Drw9\n",
    "    + (min 17:30)\n",
    "+ Evaluación de los modelos (train set)\n",
    "+ Evaluación sobre el test set\n",
    "+ Conclusión"
   ]
  },
  {
   "cell_type": "code",
   "execution_count": null,
   "id": "2d2899d3-da56-4627-a78b-1aa30d4fbf7b",
   "metadata": {},
   "outputs": [],
   "source": []
  }
 ],
 "metadata": {
  "kernelspec": {
   "display_name": "Python 3 (ipykernel)",
   "language": "python",
   "name": "python3"
  },
  "language_info": {
   "codemirror_mode": {
    "name": "ipython",
    "version": 3
   },
   "file_extension": ".py",
   "mimetype": "text/x-python",
   "name": "python",
   "nbconvert_exporter": "python",
   "pygments_lexer": "ipython3",
   "version": "3.10.9"
  }
 },
 "nbformat": 4,
 "nbformat_minor": 5
}
